{
  "nbformat": 4,
  "nbformat_minor": 0,
  "metadata": {
    "colab": {
      "provenance": [],
      "collapsed_sections": [],
      "authorship_tag": "ABX9TyP1HckS1FyDj8+wDiS0JNEl",
      "include_colab_link": true
    },
    "kernelspec": {
      "name": "python3",
      "display_name": "Python 3"
    },
    "language_info": {
      "name": "python"
    }
  },
  "cells": [
    {
      "cell_type": "markdown",
      "metadata": {
        "id": "view-in-github",
        "colab_type": "text"
      },
      "source": [
        "<a href=\"https://colab.research.google.com/github/yiting0601/yiting0601.github.io/blob/master/HW_week2.ipynb\" target=\"_parent\"><img src=\"https://colab.research.google.com/assets/colab-badge.svg\" alt=\"Open In Colab\"/></a>"
      ]
    },
    {
      "cell_type": "code",
      "source": [
        "%%writefile Ex_week2.cpp\n",
        "#include<iostream>\n",
        "using namespace std;\n",
        "int main()\n",
        "{\n",
        "    cout<<\"\\\\n is used to start a new line\";\n",
        "    return 0;\n",
        "\n",
        "}"
      ],
      "metadata": {
        "id": "TpsUeI2_aMvd",
        "colab": {
          "base_uri": "https://localhost:8080/"
        },
        "outputId": "1ea8ce19-0eda-4746-d407-f13c790fc936"
      },
      "execution_count": null,
      "outputs": [
        {
          "output_type": "stream",
          "name": "stdout",
          "text": [
            "Overwriting Ex_week2.cpp\n"
          ]
        }
      ]
    },
    {
      "cell_type": "code",
      "source": [
        "%%shell\n",
        "g++ Ex_week2.cpp -o Ex_week2"
      ],
      "metadata": {
        "colab": {
          "base_uri": "https://localhost:8080/"
        },
        "id": "WiV3BdzxNjBq",
        "outputId": "32358b39-8fa6-4693-f202-a2ebb8c03243"
      },
      "execution_count": null,
      "outputs": [
        {
          "output_type": "execute_result",
          "data": {
            "text/plain": []
          },
          "metadata": {},
          "execution_count": 20
        }
      ]
    },
    {
      "cell_type": "code",
      "source": [
        "%%shell\n",
        "./Ex_week2"
      ],
      "metadata": {
        "colab": {
          "base_uri": "https://localhost:8080/"
        },
        "id": "RYFGp7x0NWk4",
        "outputId": "d06d7a50-6eb2-4d92-e38d-ad2a88f99fa2"
      },
      "execution_count": null,
      "outputs": [
        {
          "output_type": "stream",
          "name": "stdout",
          "text": [
            "\\n is used to start a new line"
          ]
        },
        {
          "output_type": "execute_result",
          "data": {
            "text/plain": []
          },
          "metadata": {},
          "execution_count": 21
        }
      ]
    },
    {
      "cell_type": "markdown",
      "source": [
        "2.當return 0出現在cout line前面，會直接結束main function不會繼續往下執行。\n",
        "因為當return敘述出現時，表示要結束這個function"
      ],
      "metadata": {
        "id": "vs0cD27NQHsA"
      }
    },
    {
      "cell_type": "code",
      "source": [
        "%%writefile Ex_week2_3.cpp\n",
        "#include<iostream>\n",
        "using namespace std;\n",
        "int main()\n",
        "{\n",
        "  int number1,number2;\n",
        "  cout<<\"Input the first integer:\";\n",
        "  cin>>number1;\n",
        "  cout<<\"Input the second integer:\";\n",
        "  cin>>number2;\n",
        "  if(number1>number2){\n",
        "    cout<<\"After \"<<number1<<\" is devided by \"<<number2<<\",the remainder is :\"<<number1 % number2;\n",
        "  \n",
        "  }\n",
        "  else if(number1<number2){\n",
        "    cout<<\"After \"<<number2<<\" is devided by \"<<number1<<\",the remainder is :\"<<number2 % number1;\n",
        "  }\n",
        "  else{\n",
        "    cout<<\"After \"<<number2<<\" is devided by \"<<number1<<\",the remainder is :\"<<number2 % number1;\n",
        "  }\n",
        "}"
      ],
      "metadata": {
        "colab": {
          "base_uri": "https://localhost:8080/"
        },
        "id": "H4wIBscQQ5_6",
        "outputId": "bb2fbace-604b-47e1-de29-c6a0d3846ac9"
      },
      "execution_count": null,
      "outputs": [
        {
          "output_type": "stream",
          "name": "stdout",
          "text": [
            "Overwriting Ex_week2_3.cpp\n"
          ]
        }
      ]
    },
    {
      "cell_type": "code",
      "source": [
        "%%shell\n",
        "g++ Ex_week2_3.cpp -o Ex_week2_3\n"
      ],
      "metadata": {
        "colab": {
          "base_uri": "https://localhost:8080/"
        },
        "id": "2qgJ58sESg93",
        "outputId": "ac20c694-5498-4671-c0c5-16037968e76b"
      },
      "execution_count": null,
      "outputs": [
        {
          "output_type": "execute_result",
          "data": {
            "text/plain": []
          },
          "metadata": {},
          "execution_count": 30
        }
      ]
    },
    {
      "cell_type": "code",
      "source": [
        "%%shell\n",
        "./Ex_week2_3"
      ],
      "metadata": {
        "colab": {
          "base_uri": "https://localhost:8080/"
        },
        "id": "uG3YUwfPSnqW",
        "outputId": "dee77c89-e2e0-4703-e5c6-76c791fe82bd"
      },
      "execution_count": null,
      "outputs": [
        {
          "output_type": "stream",
          "name": "stdout",
          "text": [
            "Input the first integer:3\n",
            "Input the second integer:13\n",
            "After 13 is devided by 3,the remainder is :1"
          ]
        },
        {
          "output_type": "execute_result",
          "data": {
            "text/plain": []
          },
          "metadata": {},
          "execution_count": 31
        }
      ]
    }
  ]
}